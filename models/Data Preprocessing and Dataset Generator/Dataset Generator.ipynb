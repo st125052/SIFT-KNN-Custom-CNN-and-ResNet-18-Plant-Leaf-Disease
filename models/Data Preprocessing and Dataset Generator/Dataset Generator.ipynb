{
 "cells": [
  {
   "cell_type": "code",
   "execution_count": null,
   "metadata": {},
   "outputs": [],
   "source": [
    "# Importing the required libraries\n",
    "import os\n",
    "import shutil\n",
    "import random\n",
    "from sklearn.model_selection import train_test_split"
   ]
  },
  {
   "cell_type": "code",
   "execution_count": null,
   "metadata": {},
   "outputs": [],
   "source": [
    "# Define the source and output directories\n",
    "source_dir = '../unstructured_dataset' \n",
    "output_dir = '../dataset' \n",
    "\n",
    "train_ratio = 0.8\n",
    "val_ratio = 0.1\n",
    "test_ratio = 0.1"
   ]
  },
  {
   "cell_type": "code",
   "execution_count": null,
   "metadata": {},
   "outputs": [],
   "source": [
    "# Create output directory\n",
    "for split in ['train', 'val', 'test']:\n",
    "    split_dir = os.path.join(output_dir, split)\n",
    "    os.makedirs(split_dir, exist_ok=True)"
   ]
  },
  {
   "cell_type": "code",
   "execution_count": null,
   "metadata": {},
   "outputs": [],
   "source": [
    "# Split the data into train, val, and test sets\n",
    "for class_folder in os.listdir(source_dir):\n",
    "    class_path = os.path.join(source_dir, class_folder)\n",
    "    if not os.path.isdir(class_path):\n",
    "        continue\n",
    "\n",
    "    images = os.listdir(class_path)\n",
    "    random.shuffle(images)\n",
    "\n",
    "    train_images, temp_images = train_test_split(images, train_size=train_ratio, random_state=42)\n",
    "    val_images, test_images = train_test_split(temp_images, test_size=test_ratio / (test_ratio + val_ratio), random_state=42)\n",
    "\n",
    "    def copy_images(image_list, destination):\n",
    "        dest_dir = os.path.join(output_dir, destination, class_folder)\n",
    "        os.makedirs(dest_dir, exist_ok=True)\n",
    "        for image in image_list:\n",
    "            src = os.path.join(class_path, image)\n",
    "            try:\n",
    "                shutil.copy(src, dest_dir)\n",
    "            except PermissionError:\n",
    "                pass\n",
    "\n",
    "    copy_images(train_images, 'train')\n",
    "    copy_images(val_images, 'val')\n",
    "    copy_images(test_images, 'test')"
   ]
  },
  {
   "cell_type": "code",
   "execution_count": null,
   "metadata": {},
   "outputs": [
    {
     "name": "stdout",
     "output_type": "stream",
     "text": [
      "Total images across training sets: 16505\n",
      "Total images across testing sets: 2070\n",
      "Total images across validation sets: 2064\n"
     ]
    }
   ],
   "source": [
    "# Count images in each folder\n",
    "def count_images_in_folders(base_dir):\n",
    "    train_images_count = 0\n",
    "    test_images_count = 0\n",
    "    val_images_count = 0\n",
    "    for split in ['train', 'val', 'test']:\n",
    "        split_dir = os.path.join(base_dir, split)\n",
    "        \n",
    "        for class_folder in os.listdir(split_dir):\n",
    "            class_path = os.path.join(split_dir, class_folder)\n",
    "            if os.path.isdir(class_path):\n",
    "                image_count = len([f for f in os.listdir(class_path) if os.path.isfile(os.path.join(class_path, f))])\n",
    "                if split == 'train':\n",
    "                    train_images_count += image_count\n",
    "                elif split == 'test':\n",
    "                    test_images_count += image_count\n",
    "                else:\n",
    "                    val_images_count += image_count\n",
    "\n",
    "    print(f\"Total images across training sets: {train_images_count}\")\n",
    "    print(f\"Total images across testing sets: {test_images_count}\")\n",
    "    print(f\"Total images across validation sets: {val_images_count}\")\n",
    "\n",
    "base_dir = 'dataset'\n",
    "count_images_in_folders(base_dir)"
   ]
  },
  {
   "cell_type": "code",
   "execution_count": null,
   "metadata": {},
   "outputs": [],
   "source": [
    "# Convert .JPG to .jpg\n",
    "def convert_jpg_extensions(base_dir):\n",
    "    for root, dirs, files in os.walk(base_dir):\n",
    "        for filename in files:\n",
    "            if filename.endswith(\".JPG\"):\n",
    "                old_file = os.path.join(root, filename)\n",
    "                new_file = os.path.join(root, filename.lower())\n",
    "                os.rename(old_file, new_file)\n",
    "\n",
    "base_dir = 'dataset' \n",
    "convert_jpg_extensions(base_dir)"
   ]
  }
 ],
 "metadata": {
  "kernelspec": {
   "display_name": "base",
   "language": "python",
   "name": "python3"
  },
  "language_info": {
   "codemirror_mode": {
    "name": "ipython",
    "version": 3
   },
   "file_extension": ".py",
   "mimetype": "text/x-python",
   "name": "python",
   "nbconvert_exporter": "python",
   "pygments_lexer": "ipython3",
   "version": "3.12.3"
  }
 },
 "nbformat": 4,
 "nbformat_minor": 2
}
